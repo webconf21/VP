{
 "cells": [
  {
   "cell_type": "code",
   "execution_count": 78,
   "metadata": {},
   "outputs": [],
   "source": [
    " #now, get 3k samples, one thousand for each dataset. Then, \n",
    "    #how to select sample"
   ]
  },
  {
   "cell_type": "code",
   "execution_count": 105,
   "metadata": {},
   "outputs": [
    {
     "name": "stdout",
     "output_type": "stream",
     "text": [
      "\u001b[0m\u001b[34;42m360dataset_rev\u001b[0m/              saliency_ds2_topic6_part1\r\n",
      "360dataset_v2.zip            saliency_ds2_topic6_part2\r\n",
      "\u001b[01;34mbk\u001b[0m/                          saliency_ds2_topic6_part3\r\n",
      "\u001b[01;34mhead-orientation\u001b[0m/            saliency_ds2_topic7\r\n",
      "README.md                    saliency_ds2_topic8\r\n",
      "saleval_bk                   saliency_ds3_topiccoaster_\r\n",
      "saliency_ds1_topicdiving     saliency_ds3_topiccoaster2_\r\n",
      "saliency_ds1_topicparis      saliency_ds3_topicdiving\r\n",
      "saliency_ds1_topicroller     saliency_ds3_topicdrive\r\n",
      "saliency_ds1_topictimelapse  saliency_ds3_topicgame\r\n",
      "saliency_ds1_topicvenise     saliency_ds3_topiclandscape\r\n",
      "saliency_ds2_topic0          saliency_ds3_topicpacman\r\n",
      "saliency_ds2_topic1          saliency_ds3_topicpanel\r\n",
      "saliency_ds2_topic2          saliency_ds3_topicride\r\n",
      "saliency_ds2_topic3          saliency_ds3_topicsport\r\n",
      "saliency_ds2_topic4          saliency_evaldat\r\n",
      "saliency_ds2_topic5_part1    viz_filtered_fixation\r\n",
      "saliency_ds2_topic5_part2\r\n"
     ]
    }
   ],
   "source": [
    "ls ./data"
   ]
  },
  {
   "cell_type": "code",
   "execution_count": null,
   "metadata": {},
   "outputs": [],
   "source": []
  },
  {
   "cell_type": "code",
   "execution_count": 106,
   "metadata": {},
   "outputs": [],
   "source": [
    "import pickle\n",
    "import numpy as np\n",
    "import head_orientation_lib\n",
    "import saldat_head_orientation\n",
    "import saldat_eval\n",
    "import saldat_saliency\n",
    "from sklearn import metrics\n",
    "\n",
    "reload(head_orientation_lib)\n",
    "reload(saldat_eval)\n",
    "\n",
    "from matplotlib import pyplot as plt\n",
    "%matplotlib inline"
   ]
  },
  {
   "cell_type": "code",
   "execution_count": null,
   "metadata": {},
   "outputs": [],
   "source": []
  },
  {
   "cell_type": "code",
   "execution_count": 107,
   "metadata": {},
   "outputs": [
    {
     "name": "stdout",
     "output_type": "stream",
     "text": [
      "Read/Initialize samples for evaluation\n",
      "Initialize baselines (center & equator)\n"
     ]
    }
   ],
   "source": [
    "dirpath1 = u'./data/head-orientation/dataset1'\n",
    "dirpath2 = u'./data/head-orientation/dataset2/Experiment_1'\n",
    "dirpath3 = u'./data/head-orientation/dataset3/sensory/orientation'\n",
    "ext1 = '.txt'\n",
    "ext2 = '.csv'\n",
    "ext3 = '.csv'\n",
    "headoren = saldat_head_orientation.HeadOrientation(dirpath1, dirpath2, dirpath3, ext1, ext2, ext3)\n",
    "\n",
    "var = 20\n",
    "salsal = saldat_saliency.Fixation(var)\n",
    "\n",
    "saleval = saldat_eval.SalEvaluation(headoren, salsal, verbose=True)"
   ]
  },
  {
   "cell_type": "code",
   "execution_count": 6,
   "metadata": {},
   "outputs": [],
   "source": [
    "#dataset = 3\n",
    "#dirpath, filename_list, f_parse, f_extract_direction = headoren.load_filename_list(dataset, topic)\n",
    "#series_ds = headoren.load_series_ds(filename_list, f_parse)\n",
    "#vector_ds = headoren.headpos_to_headvec(series_ds, f_extract_direction)\n",
    "#vector_ds = headoren.cutoff_vel_acc(vector_ds)"
   ]
  },
  {
   "cell_type": "code",
   "execution_count": 7,
   "metadata": {},
   "outputs": [
    {
     "name": "stdout",
     "output_type": "stream",
     "text": [
      "27.640000000000022 panel\n"
     ]
    },
    {
     "data": {
      "image/png": "[encoded data removed]",
      "text/plain": [
       "<matplotlib.figure.Figure at 0x1473a6723550>"
      ]
     },
     "metadata": {},
     "output_type": "display_data"
    },
    {
     "data": {
      "image/png": "[encoded data removed]",
      "text/plain": [
       "<matplotlib.figure.Figure at 0x1473a6723d10>"
      ]
     },
     "metadata": {},
     "output_type": "display_data"
    }
   ],
   "source": [
    "dataset = 3\n",
    "ds, t, vlist, salmap = saleval.dat[dataset][0]\n",
    "fixlist = [[t, vlist[idx], -1, -1] for idx,_ in enumerate(vlist)]\n",
    "fmap = headoren.create_fixation_map(fixlist, dataset)\n",
    "plt.imshow(fmap)\n",
    "plt.figure()\n",
    "plt.imshow(salmap)\n",
    "print t, ds"
   ]
  },
  {
   "cell_type": "code",
   "execution_count": 15,
   "metadata": {},
   "outputs": [
    {
     "name": "stdout",
     "output_type": "stream",
     "text": [
      "0.08920620580763855 0.00027063952802410966 0.0 1.0133570250784742e-89\n"
     ]
    },
    {
     "data": {
      "image/png": "[encoded data removed]",
      "text/plain": [
       "<matplotlib.figure.Figure at 0x1473a44c5b10>"
      ]
     },
     "metadata": {},
     "output_type": "display_data"
    }
   ],
   "source": [
    "\n",
    "heat_mapi = salsal.create_saliency([fixlist[0]], dataset)\n",
    "plt.imshow(heat_mapi)\n",
    "heat_mapi = salsal.create_saliency([[0.0, [-1.0, 0, 0], 0, 0]], 1)\n",
    "plt.imshow(heat_mapi)\n",
    "print heat_mapi.max(), heat_mapi.mean(), heat_mapi.min(), np.median(heat_mapi)\n"
   ]
  },
  {
   "cell_type": "code",
   "execution_count": 8,
   "metadata": {},
   "outputs": [
    {
     "name": "stdout",
     "output_type": "stream",
     "text": [
      "8.7027258873\n"
     ]
    }
   ],
   "source": [
    "#create individual heat map for saliency. Important\n",
    "import timeit\n",
    "btime = timeit.default_timer()\n",
    "\n",
    "heat_map_list = []\n",
    "for i in np.arange(len(fixlist)):\n",
    "    heat_mapi = salsal.create_saliency([fixlist[i]], dataset)\n",
    "    heat_map_list.append(heat_mapi)\n",
    "print timeit.default_timer() - btime\n",
    "\n",
    "#10 seconds for 1 frames, total number of evaluation: "
   ]
  },
  {
   "cell_type": "code",
   "execution_count": 16,
   "metadata": {},
   "outputs": [],
   "source": [
    "def get_false_geoxy(_topic, _false_gxy_dict, topk=5):\n",
    "    temp = []\n",
    "    result = []\n",
    "    for t in _false_gxy_dict.keys():\n",
    "        if t != _topic:\n",
    "            temp = temp + _false_gxy_dict[t]\n",
    "    idx_list = range(len(temp))\n",
    "    np.random.shuffle(idx_list)\n",
    "    idx_list = idx_list[:topk]\n",
    "    for idx in idx_list:\n",
    "        result += temp[idx]\n",
    "    return result\n",
    "\n",
    "def sAUC_baseline(_heat_map_list, _true_fixation_list, _true_geoxy_list, _false_geoxy_dict, _vec_map, _gaussian_dict, _width, _height):\n",
    "    split_n = 3\n",
    "    split_pos = 0   \n",
    "    \n",
    "    false_geoxy_list = get_false_geoxy('2', _false_geoxy_dict, topk=5)\n",
    "    \n",
    "\n",
    "    idx_list_train, idx_list_val, fixation_train_list, fixation_val_list =\\\n",
    "                create_split(split_n, split_pos, _true_fixation_list)\n",
    "    salient_map = sum([_heat_map_list[i] for i in idx_list_val])\n",
    "    true_geoxy_list_train = [_true_geoxy_list[idx] for idx in idx_list_train]\n",
    "        \n",
    "    #human model\n",
    "    y_pred = [salient_map[x, y] for (x, y) in true_geoxy_list_train]\n",
    "    y_pred += [salient_map[x, y] for (x, y) in false_geoxy_list]\n",
    "    #horizontal model\n",
    "    y_pred_horizon = [1.0 - np.abs(get_fixation.geoy_to_phi(x, _height))/90.0 for (x, y) in true_geoxy_list_train]\n",
    "    y_pred_horizon += [1.0 - np.abs(get_fixation.geoy_to_phi(x, _height))/90.0 for (x, y) in false_geoxy_list]\n",
    "    #center model\n",
    "    y_pred_center = [salient_center_map[x, y] for (x, y) in true_geoxy_list_train]\n",
    "    y_pred_center += [salient_center_map[x, y] for (x, y) in false_geoxy_list]\n",
    "    #true fixation\n",
    "    y_true = [1 for (y, x) in true_geoxy_list_train]\n",
    "    y_true += [0 for (y, x) in false_geoxy_list]\n",
    "\n",
    "    return metrics.roc_auc_score(y_true, y_pred),\\\n",
    "            metrics.roc_auc_score(y_true, y_pred_horizon),\\\n",
    "            metrics.roc_auc_score(y_true, y_pred_center)"
   ]
  },
  {
   "cell_type": "code",
   "execution_count": 68,
   "metadata": {},
   "outputs": [
    {
     "name": "stdout",
     "output_type": "stream",
     "text": [
      "pacman 27.460000000000022\n"
     ]
    }
   ],
   "source": []
  },
  {
   "cell_type": "code",
   "execution_count": 77,
   "metadata": {},
   "outputs": [
    {
     "name": "stdout",
     "output_type": "stream",
     "text": [
      "pacman 10.600000000000009\n",
      "12\n",
      "0.9857142857142857\n",
      "total time taken:  1.38693213463\n"
     ]
    },
    {
     "data": {
      "image/png": "[encoded data removed]",
      "text/plain": [
       "<matplotlib.figure.Figure at 0x1473a7a8e850>"
      ]
     },
     "metadata": {},
     "output_type": "display_data"
    },
    {
     "data": {
      "image/png": "[encoded data removed]",
      "text/plain": [
       "<matplotlib.figure.Figure at 0x1473a3b6c1d0>"
      ]
     },
     "metadata": {},
     "output_type": "display_data"
    },
    {
     "data": {
      "image/png": "[encoded data removed]",
      "text/plain": [
       "<matplotlib.figure.Figure at 0x1473a6c97b10>"
      ]
     },
     "metadata": {},
     "output_type": "display_data"
    },
    {
     "data": {
      "image/png": "[encoded data removed]",
      "text/plain": [
       "<matplotlib.figure.Figure at 0x1473a8b37dd0>"
      ]
     },
     "metadata": {},
     "output_type": "display_data"
    }
   ],
   "source": [
    "import timeit\n",
    "\n",
    "btime = timeit.default_timer()\n",
    "\n",
    "dataset = 3\n",
    "idx = np.random.randint(len(saleval.dat[dataset]))\n",
    "topic, t, vpos_list, salmap = saleval.dat[dataset][idx]\n",
    "vneg_list = saleval.get_negative_fixations(dataset, topic)\n",
    "print topic, t\n",
    "\n",
    "#now I have positive, negative fixation, need to create saliency list\n",
    "fixpos_list = [(t, v, _, _) for v in vpos_list]\n",
    "fixneg_list = [(t, v, _, _) for v in vneg_list]\n",
    "fposmap = headoren.create_fixation_map(fixpos_list, dataset)\n",
    "fnegmap = headoren.create_fixation_map(fixneg_list, dataset)\n",
    "\n",
    "np.random.shuffle(fixpos_list)\n",
    "npos= len(fixpos_list)/3\n",
    "fixposeval_list = fixpos_list[:npos]\n",
    "fixpostrain_list = fixpos_list[npos:]\n",
    "val_salmap = salsal.create_saliency(fixposeval_list, dataset)\n",
    "train_fmap = headoren.create_fixation_map(fixpostrain_list, dataset)\n",
    "geoxy_train = zip(*np.where(train_fmap==1))\n",
    "geoxy_neg = zip(*np.where(fnegmap==1))\n",
    "\n",
    "#val_salmap must be evaluated against geoxy_train + geoxy_neg\n",
    "\n",
    "y_pred = [val_salmap[hi, wi] for (hi, wi) in geoxy_train]\n",
    "y_pred += [val_salmap[hi, wi] for (hi, wi) in geoxy_neg]\n",
    "\n",
    "y_true = [1 for item in geoxy_train]\n",
    "y_true += [0 for item in geoxy_neg]\n",
    "\n",
    "plt.imshow(fposmap)\n",
    "plt.figure()\n",
    "plt.imshow(fnegmap)\n",
    "plt.figure()\n",
    "\n",
    "plt.imshow(val_salmap)\n",
    "plt.figure()\n",
    "plt.imshow(train_fmap)\n",
    "\n",
    "print len(fixpos_list)\n",
    "print metrics.roc_auc_score(y_true, y_pred)\n",
    "\n",
    "print 'total time taken: ', timeit.default_timer() - btime"
   ]
  },
  {
   "cell_type": "code",
   "execution_count": 71,
   "metadata": {},
   "outputs": [],
   "source": [
    "baseline_circle = None\n",
    "baseline_equator = [1.0 - np.abs(head_orientation_lib.geoy_to_phi(hi, head_orientation_lib.H))/90.0 for (hi, wi) in geoxy_train]"
   ]
  },
  {
   "cell_type": "code",
   "execution_count": 59,
   "metadata": {},
   "outputs": [
    {
     "data": {
      "text/plain": [
       "(45, 80)"
      ]
     },
     "execution_count": 59,
     "metadata": {},
     "output_type": "execute_result"
    }
   ],
   "source": [
    "head_orientation_lib.H/2, head_orientation_lib.W/2"
   ]
  },
  {
   "cell_type": "code",
   "execution_count": 111,
   "metadata": {},
   "outputs": [
    {
     "name": "stdout",
     "output_type": "stream",
     "text": [
      "0 0.9600694444444444 nan panel 27.640000000000022 23\n",
      "1 0.7582417582417582 0.9600694444444444 ride 50.50000000000004 19\n",
      "2 0.7972972972972973 0.8591556013431013 diving 8.260000000000007 21\n",
      "3 0.731186224489796 0.8385361666611666 coaster2_ 50.08000000000004 47\n",
      "4 0.5118159203980099 0.811698681118324 landscape 59.86000000000005 17\n",
      "5 0.7578125 0.7517221289742612 game 5.740000000000004 36\n",
      "6 1.0 0.7527371908118843 sport 28.240000000000023 20\n",
      "Warning, not enough data at : panel, 31.06, 14, SKIPPED\n",
      "8 1.0 0.7880604492673294 drive 40.42000000000004 27\n",
      "9 0.8974603174603175 0.8145528931089132 coaster_ 44.08000000000004 37\n",
      "10 0.6534598214285714 0.8237648291479581 panel 19.480000000000018 20\n",
      "11 0.6870527000650618 0.8067343283760195 coaster2_ 52.96000000000004 43\n",
      "12 0.8295454545454546 0.7958541803477506 coaster_ 16.900000000000013 16\n",
      "13 0.8090909090909091 0.7986617865308926 diving 59.68000000000005 38\n",
      "14 0.9030054644808744 0.7994640267278169 panel 49.780000000000044 17\n",
      "Warning, not enough data at : game, 2.86, 12, SKIPPED\n",
      "16 0.6277472527472527 0.8068598437101782 coaster2_ 38.74000000000003 42\n",
      "Warning, not enough data at : pacman, 20.5, 12, SKIPPED\n",
      "Warning, not enough data at : drive, 21.22, 14, SKIPPED\n",
      "19 0.7698863636363636 0.7949190043126497 coaster2_ 49.12000000000004 23\n",
      "20 0.6319942611190816 0.7933544642703819 ride 7.360000000000006 25\n",
      "21 0.557983682983683 0.783862687614423 panel 41.080000000000034 32\n",
      "22 0.7661913250148544 0.7713138540238264 game 49.72000000000004 25\n",
      "Warning, not enough data at : landscape, 22.24, 13, SKIPPED\n",
      "24 0.9181096681096681 0.7710442472338804 game 52.00000000000004 20\n",
      "25 0.9371794871794872 0.7783975182776699 coaster_ 58.66000000000005 17\n",
      "26 0.6058122205663189 0.7859585644158517 diving 28.900000000000023 32\n",
      "27 0.8538461538461539 0.7777700942408728 coaster_ 36.70000000000003 27\n",
      "28 0.6051587301587301 0.7810777490063198 coaster2_ 28.000000000000025 42\n",
      "Warning, not enough data at : game, 3.64, 10, SKIPPED\n",
      "30 0.8246268656716418 0.7737477898876705 game 25.18000000000002 21\n",
      "31 0.5873015873015873 0.7757829529190293 diving 51.280000000000044 27\n",
      "32 0.8623481781376519 0.7685336696260509 coaster2_ 6.820000000000006 28\n",
      "Warning, not enough data at : pacman, 12.04, 6, SKIPPED\n",
      "34 0.7413793103448275 0.7720082810524064 sport 16.660000000000014 29\n",
      "Warning, not enough data at : landscape, 1.06, 14, SKIPPED\n",
      "36 0.8743228602383533 0.7709143892414215 sport 6.820000000000006 19\n",
      "37 0.7803571428571427 0.7744801985861434 diving 25.420000000000023 29\n",
      "38 0.653061224489796 0.7746760967285099 panel 39.580000000000034 21\n",
      "39 0.88 0.7707530363337127 game 23.20000000000002 29\n",
      "40 0.7376373626373627 0.7741670039482841 sport 32.260000000000026 21\n",
      "41 0.787012987012987 0.7730600451206804 pacman 47.920000000000044 21\n",
      "Warning, not enough data at : coaster_, 1.36, 5, SKIPPED\n",
      "43 0.7699214365881033 0.7734704257645717 ride 48.82000000000004 32\n",
      "Warning, not enough data at : panel, 10.24, 6, SKIPPED\n",
      "45 0.8968599033816425 0.7733690260738154 sport 39.040000000000035 34\n",
      "46 0.7622641509433963 0.7767993282212551 coaster_ 36.040000000000035 30\n",
      "47 0.9192546583850931 0.7764064855921238 coaster2_ 53.920000000000044 31\n",
      "48 0.8777777777777778 0.780165648034044 coaster_ 57.28000000000005 26\n",
      "49 0.8315972222222222 0.7826685231556781 pacman 50.200000000000045 17\n",
      "50 0.7749999999999999 0.7838917406323418 pacman 31.900000000000027 22\n",
      "51 0.974537037037037 0.7836748689096017 coaster_ 58.00000000000005 26\n",
      "52 0.7549751243781094 0.7882192062459692 drive 9.220000000000008 17\n",
      "53 0.6866666666666666 0.7874460880629957 coaster_ 22.000000000000018 37\n",
      "Warning, not enough data at : panel, 14.68, 14, SKIPPED\n",
      "Warning, not enough data at : panel, 13.48, 11, SKIPPED\n",
      "56 0.48087686567164184 0.7851556466676246 landscape 19.360000000000017 24\n",
      "57 0.6351351351351351 0.7783938959788249 drive 19.360000000000017 21\n",
      "58 0.9766414141414141 0.7752795750909186 landscape 46.90000000000004 16\n",
      "59 0.6212121212121213 0.7795638695388015 landscape 18.700000000000017 16\n",
      "Warning, not enough data at : sport, 55.48, 13, SKIPPED\n",
      "61 0.9611823361823362 0.7762648747819959 diving 33.10000000000003 26\n",
      "62 0.7439814814814815 0.7800387005248599 coaster2_ 35.32000000000003 30\n",
      "63 0.886328125 0.7793175561439923 pacman 59.620000000000054 24\n",
      "64 0.7960164835164835 0.7814158025921494 ride 40.24000000000004 19\n",
      "Warning, not enough data at : pacman, 59.08, 8, SKIPPED\n",
      "66 0.728813559322034 0.7816965849176173 coaster2_ 39.70000000000003 30\n",
      "67 0.6816964285714286 0.7806987919818515 coaster2_ 11.68000000000001 24\n",
      "Warning, not enough data at : ride, 17.44, 8, SKIPPED\n",
      "69 0.6641386782231854 0.7788654148816585 pacman 24.52000000000002 19\n",
      "70 0.8354700854700855 0.7767794742151408 pacman 44.26000000000004 18\n",
      "71 0.9795 0.7778275208446935 drive 26.560000000000024 29\n",
      "72 0.8208333333333333 0.7813656345140848 landscape 29.320000000000025 21\n",
      "Warning, not enough data at : drive, 8.44, 12, SKIPPED\n",
      "74 0.5322463768115941 0.7820461120799339 panel 52.840000000000046 29\n",
      "75 0.9929378531073446 0.7778122182618264 drive 27.520000000000024 26\n",
      "76 0.9812446717817562 0.7813976455092517 panel 29.380000000000024 25\n",
      "77 0.8930288461538461 0.7846738262678175 sport 19.960000000000015 48\n",
      "78 0.8539553752535498 0.7864214878788824 pacman 33.88000000000003 25\n",
      "Warning, not enough data at : panel, 22.72, 12, SKIPPED\n",
      "Warning, not enough data at : sport, 51.04, 5, SKIPPED\n",
      "Warning, not enough data at : landscape, 53.44, 13, SKIPPED\n",
      "Warning, not enough data at : landscape, 57.1, 13, SKIPPED\n",
      "83 0.8214285714285714 0.787493454345147 coaster2_ 51.76000000000005 35\n",
      "84 0.6922619047619047 0.7880236905495754 landscape 27.760000000000023 22\n",
      "85 0.8041666666666667 0.7865504323066882 sport 56.32000000000005 17\n",
      "Warning, not enough data at : panel, 10.3, 9, SKIPPED\n",
      "87 0.6858710562414267 0.7868173449485061 pacman 34.36000000000003 27\n",
      "Warning, not enough data at : diving, 55.18, 10, SKIPPED\n",
      "89 0.9324324324324325 0.7853106839230273 coaster2_ 29.440000000000026 27\n",
      "90 0.7456467661691542 0.7874742390481656 ride 18.520000000000017 18\n",
      "91 0.9099999999999999 0.7868680437890495 sport 39.52000000000003 37\n",
      "92 0.8294573643410852 0.7886270717349202 diving 39.70000000000003 17\n",
      "93 0.6759485924112606 0.789202146278669 panel 43.360000000000035 28\n",
      "94 0.9422700587084148 0.7876291802527328 drive 23.14000000000002 21\n",
      "95 0.8625 0.7897475484507558 panel 38.62000000000003 30\n",
      "96 0.9768518518518519 0.7907306896879077 landscape 45.34000000000004 27\n",
      "97 0.9448924731182795 0.793212305183427 coaster_ 29.200000000000024 17\n",
      "98 0.718694885361552 0.7952080968667804 game 17.740000000000016 21\n",
      "Warning, not enough data at : landscape, 11.38, 12, SKIPPED\n",
      "100 0.7584325396825398 0.7942144187952839 sport 41.98000000000004 23\n",
      "101 0.7716823406478578 0.7937556767553768 landscape 33.64000000000003 16\n",
      "102 0.5557909604519775 0.7934762674375602 sport 22.000000000000018 36\n",
      "103 0.9598765432098766 0.7905052011002404 coaster_ 16.720000000000013 24\n",
      "Warning, not enough data at : pacman, 40.66, 13, SKIPPED\n",
      "105 0.6976495726495726 0.7925962053238161 pacman 36.76000000000003 17\n",
      "106 0.8660818713450293 0.791438319559496 game 42.220000000000034 44\n",
      "107 0.9963570127504553 0.7923376394605265 drive 22.42000000000002 26\n",
      "108 0.8340080971659919 0.7947664415235018 panel 4.4200000000000035 28\n",
      "109 0.7850438047559449 0.7952281080604723 ride 5.740000000000004 25\n",
      "110 0.6960978835978836 0.7951096859290243 diving 12.28000000000001 35\n",
      "111 0.8164665523156089 0.7939716192355629 ride 11.440000000000008 16\n",
      "112 0.6891774891774891 0.794227243475109 landscape 15.580000000000013 22\n",
      "113 0.8590686274509804 0.7930469091571583 sport 21.40000000000002 45\n",
      "114 0.892109500805153 0.7937804838048674 sport 14.500000000000012 34\n",
      "115 0.6769957983193278 0.7948610224532222 coaster2_ 12.820000000000011 25\n",
      "Warning, not enough data at : pacman, 30.7, 3, SKIPPED\n",
      "Warning, not enough data at : sport, 51.88, 3, SKIPPED\n",
      "118 0.6747619047619047 0.7935798787126364 diving 13.24000000000001 22\n",
      "119 1.0 0.7923022660895103 sport 28.480000000000025 22\n",
      "120 0.6760416666666668 0.7945118164502601 ride 48.94000000000004 26\n",
      "121 0.7546884452510587 0.7932647622420117 ride 36.76000000000003 28\n",
      "122 0.8667840375586855 0.7928629256066894 sport 47.32000000000004 17\n",
      "123 0.59145880574452 0.7936249989257821 ride 25.36000000000002 31\n",
      "124 0.8063427800269906 0.7915620785871978 sport 26.740000000000023 38\n"
     ]
    },
    {
     "name": "stdout",
     "output_type": "stream",
     "text": [
      "125 0.5162579957356077 0.7917113786017412 panel 52.54000000000005 41\n",
      "126 0.7016806722689075 0.7889568447730799 ride 23.56000000000002 25\n",
      "127 0.6022727272727273 0.7880927242532366 landscape 33.28000000000003 30\n",
      "128 0.7217365967365967 0.7862709595769573 game 34.42000000000003 32\n",
      "129 0.7950872656755009 0.7856444123649148 pacman 48.94000000000004 25\n",
      "130 0.4792768959435626 0.7857352090313625 diving 6.580000000000005 31\n",
      "131 0.6600361663652803 0.7828165584305263 coaster2_ 34.78000000000003 31\n",
      "Warning, not enough data at : pacman, 13.72, 1, SKIPPED\n",
      "133 0.8370726495726497 0.781658252845005 pacman 13.24000000000001 17\n",
      "134 0.809274193548387 0.7821761444032073 coaster2_ 43.78000000000004 30\n",
      "135 0.8128551136363636 0.7824270522656627 landscape 11.740000000000009 24\n",
      "136 0.8067226890756303 0.7827062087919994 coaster_ 13.900000000000011 25\n",
      "Warning, not enough data at : pacman, 13.06, 7, SKIPPED\n",
      "138 0.7317004504504504 0.7829245404309414 coaster_ 51.94000000000005 35\n",
      "139 0.5715539947322212 0.7824630621428289 diving 42.820000000000036 25\n",
      "140 0.575 0.78057994546952 pacman 28.300000000000026 17\n",
      "141 0.8970377448638318 0.7787606539166925 coaster2_ 20.020000000000017 34\n",
      "142 0.9093567251461988 0.779798172258334 panel 19.960000000000015 17\n",
      "143 0.44692460317460314 0.7809247683704025 ride 54.100000000000044 20\n",
      "144 0.9028301886792452 0.7780454566014732 drive 59.56000000000005 29\n",
      "145 0.931469298245614 0.7791119927730781 coaster_ 28.120000000000026 35\n",
      "146 0.6030303030303029 0.7804031563787776 pacman 36.400000000000034 22\n",
      "147 0.7160493827160493 0.7789126281993787 drive 12.70000000000001 18\n",
      "148 0.9795751633986928 0.7783887678203508 panel 25.960000000000022 26\n",
      "Warning, not enough data at : landscape, 58.9, 14, SKIPPED\n",
      "150 0.656392694063927 0.7800514653044693 drive 18.760000000000016 26\n",
      "151 0.559016393442623 0.7790378688188911 landscape 15.820000000000013 22\n",
      "152 0.6705328017397608 0.7772490763361571 coaster2_ 42.94000000000004 46\n",
      "153 0.9555555555555556 0.7763884612184444 drive 14.380000000000011 22\n",
      "154 0.6615853658536586 0.7778217979731412 diving 9.460000000000008 23\n",
      "155 0.8820512820512821 0.7768992866071135 panel 33.70000000000003 26\n",
      "156 0.8961805555555555 0.7777272550751778 sport 26.800000000000022 44\n",
      "157 0.6109589041095891 0.7786526714851809 ride 7.6600000000000055 15\n",
      "158 0.9158653846153846 0.7773527198000989 coaster_ 44.74000000000004 38\n",
      "159 0.7123233908948194 0.7784182018371395 landscape 1.0 21\n",
      "160 0.9860759493670885 0.777913661295595 panel 5.380000000000004 15\n",
      "161 0.8327721661054994 0.7794906483264397 panel 15.760000000000012 32\n",
      "Warning, not enough data at : pacman, 10.24, 6, SKIPPED\n",
      "163 0.7954545454545454 0.7798912612420718 game 31.84000000000003 16\n",
      "164 1.0 0.7800074051541052 sport 34.24000000000003 26\n",
      "165 0.7853618421052632 0.7816369799307413 ride 27.520000000000024 23\n",
      "166 0.8452380952380952 0.7816643686232011 game 51.700000000000045 20\n",
      "167 0.7565104166666667 0.7821284104233097 diving 42.460000000000036 17\n",
      "168 0.6514161220043574 0.7819427727873921 diving 57.58000000000005 27\n",
      "169 0.75 0.7810037321342768 drive 29.920000000000027 18\n",
      "170 0.7787114845938377 0.7807822769047462 pacman 56.200000000000045 21\n",
      "171 0.9044715447154471 0.780767590434456 game 50.50000000000004 18\n",
      "172 0.8358288770053475 0.7816387450420687 game 4.360000000000003 25\n",
      "Warning, not enough data at : pacman, 44.5, 13, SKIPPED\n",
      "174 1.0 0.7820176970138398 drive 45.460000000000036 22\n",
      "175 0.8775313404050145 0.7835314630067993 ride 2.200000000000001 25\n",
      "176 0.9036300777873811 0.7841797380233386 pacman 6.880000000000005 19\n",
      "177 0.8584183673469388 0.7849978910354212 panel 51.520000000000046 20\n",
      "178 0.9476415094339623 0.7854973500579485 coaster_ 24.16000000000002 29\n",
      "179 0.7830459770114943 0.786592918702381 coaster2_ 52.600000000000044 36\n",
      "180 0.6905128205128205 0.7865691137245898 coaster_ 50.560000000000045 44\n",
      "Warning, not enough data at : sport, 56.08, 10, SKIPPED\n",
      "Warning, not enough data at : drive, 1.9, 2, SKIPPED\n",
      "183 0.4243727598566308 0.7859287384365113 diving 39.580000000000034 22\n",
      "184 0.886322463768116 0.78353432798234 pacman 36.82000000000003 18\n",
      "185 0.5994687131050767 0.7842105657177727 panel 54.22000000000005 32\n",
      "Warning, not enough data at : pacman, 10.6, 12, SKIPPED\n",
      "187 0.9088541666666666 0.7830031026288009 game 55.060000000000045 21\n",
      "188 1.0 0.7838203173303454 drive 36.52000000000003 36\n",
      "189 0.741860465116279 0.7852150249604722 game 4.9600000000000035 30\n",
      "190 0.8095238095238095 0.7849371111153172 panel 54.160000000000046 34\n",
      "191 0.6856702619414483 0.7850937142898936 game 10.540000000000008 32\n",
      "192 0.9523281596452329 0.7844644519332579 coaster_ 35.38000000000003 32\n",
      "193 0.4518229166666667 0.7855201985226413 landscape 21.76000000000002 18\n",
      "194 0.644758064516129 0.7834345905110414 coaster_ 2.200000000000001 29\n",
      "195 0.7824675324675323 0.7825732456290855 pacman 45.34000000000004 16\n",
      "196 0.9867788461538461 0.7825725930787055 pacman 14.380000000000011 24\n",
      "197 0.6494897959183674 0.783825392177326 ride 30.220000000000027 30\n",
      "Warning, not enough data at : game, 13.06, 4, SKIPPED\n",
      "199 0.9791666666666666 0.7830062726879422 panel 31.84000000000003 21\n",
      "0.7841951235605404\n"
     ]
    }
   ],
   "source": [
    "dataset = 3\n",
    "result = []\n",
    "for idx, (topic, t, vpos_list, salmap) in enumerate(saleval.dat[dataset][:200]):\n",
    "    if len(vpos_list) < 15:\n",
    "        print 'Warning, not enough data at : {}, {}, {}, SKIPPED'.format(topic, t, len(vpos_list))\n",
    "        continue\n",
    "    sauc = saleval.sauc(dataset, topic, vpos_list)\n",
    "    print idx, sauc, np.mean(result), topic, t, len(vpos_list)\n",
    "    result.append(sauc)\n",
    "result = np.array(result)\n",
    "print result.mean()"
   ]
  },
  {
   "cell_type": "code",
   "execution_count": null,
   "metadata": {},
   "outputs": [],
   "source": [
    "saleval.dat"
   ]
  },
  {
   "cell_type": "code",
   "execution_count": null,
   "metadata": {},
   "outputs": [],
   "source": []
  }
 ],
 "metadata": {
  "kernelspec": {
   "display_name": "Python 2 (Intel, 2018 update 1)",
   "language": "python",
   "name": "c009-intel_distribution_of_python_2_2018u1"
  },
  "language_info": {
   "codemirror_mode": {
    "name": "ipython",
    "version": 2
   },
   "file_extension": ".py",
   "mimetype": "text/x-python",
   "name": "python",
   "nbconvert_exporter": "python",
   "pygments_lexer": "ipython2",
   "version": "2.7.14"
  }
 },
 "nbformat": 4,
 "nbformat_minor": 2
}
